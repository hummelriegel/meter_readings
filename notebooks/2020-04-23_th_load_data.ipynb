{
 "cells": [
  {
   "cell_type": "markdown",
   "metadata": {},
   "source": [
    "# Load Data\n",
    "Bilder einlesen und Dateinamen anpassen"
   ]
  },
  {
   "cell_type": "code",
   "execution_count": null,
   "metadata": {},
   "outputs": [],
   "source": [
    "# OPTIONAL: Load the \"autoreload\" extension so that code can change\n",
    "%load_ext autoreload\n",
    "\n",
    "# OPTIONAL: always reload modules so that as you change code in src, it gets loaded\n",
    "%autoreload 2\n",
    "\n",
    "from src.data import make_dataset\n",
    "\n",
    "import warnings\n"
   ]
  },
  {
   "cell_type": "code",
   "execution_count": null,
   "metadata": {},
   "outputs": [],
   "source": [
    "import pandas as pd # Deals with data"
   ]
  },
  {
   "cell_type": "code",
   "execution_count": null,
   "metadata": {},
   "outputs": [],
   "source": [
    "excel_readings = pd.read_excel('../data/raw/moroweg_strom_gas.xlsx')\n",
    "excel_readings.head()"
   ]
  },
  {
   "cell_type": "code",
   "execution_count": null,
   "metadata": {},
   "outputs": [],
   "source": [
    "manual_readings = excel_readings.iloc[:,[0,1,3,5]]\n",
    "manual_readings = manual_readings.melt(id_vars=[\"Date\", \"Kommentar\"], \n",
    "        var_name=\"Meter Type\", \n",
    "        value_name=\"Value\")\n",
    "manual_readings[[\"Meter Type\", \"Unit\"]] = manual_readings['Meter Type'].str.split(' ',expand=True)\n",
    "manual_readings = manual_readings[[\"Date\", \"Meter Type\", \"Unit\", \"Value\", \"Kommentar\"]]\n",
    "manual_readings"
   ]
  },
  {
   "cell_type": "code",
   "execution_count": null,
   "metadata": {},
   "outputs": [],
   "source": [
    "## Code Snippet for exifread for a sample image\n",
    "import exifread\n",
    "import os\n",
    "\n",
    "#path_name = os.path.join(os.pardir, 'data', 'raw', '2017', '2017-03-03 15.06.47.jpg')\n",
    "path_name = \"..\\data\\processed\\gas\\IMG_20200405_173910.jpg\"\n",
    "\n",
    "# Open image file for reading (binary mode)\n",
    "f = open(path_name, 'rb')\n",
    "\n",
    "# Return Exif tags\n",
    "tags = exifread.process_file(f)\n",
    "\n",
    "# Show Tags\n",
    "for tag in tags.keys():\n",
    "    if tag not in ('JPEGThumbnail', 'TIFFThumbnail', 'Filename', 'EXIF MakerNote'):\n",
    "        print(\"Key: %s, value %s\" % (tag, tags[tag]))"
   ]
  },
  {
   "cell_type": "code",
   "execution_count": null,
   "metadata": {},
   "outputs": [],
   "source": [
    "def extract_file_meta(file_path):\n",
    "    basename = os.path.basename(file_path)\n",
    "    \n",
    "    # Open image file for reading (binary mode)\n",
    "    f = open(file_path, 'rb')\n",
    "\n",
    "    # Read EXIF\n",
    "    tags = exifread.process_file(f)\n",
    "    \n",
    "    try:\n",
    "        exif_datetime = str(tags[\"EXIF DateTimeOriginal\"])\n",
    "    except KeyError:\n",
    "        warnings.warn(\"File {file_path} does not appear to have a date in EXIF Tags.\".format(file_path=file_path))\n",
    "        return()\n",
    "        #exif_datetime = \"2020:01:01 00:00:00\"\n",
    "            \n",
    "    # Format Date\n",
    "    datetime = pd.to_datetime(exif_datetime, format = \"%Y:%m:%d %H:%M:%S\")\n",
    "    date = pd.to_datetime(datetime.date())\n",
    "    \n",
    "    return(basename, datetime, date, file_path)"
   ]
  },
  {
   "cell_type": "code",
   "execution_count": null,
   "metadata": {},
   "outputs": [],
   "source": [
    "def meta_from_files(files):\n",
    "    files_meta = []\n",
    "    for file_path in files:\n",
    "        files_meta.append(extract_file_meta(file_path))\n",
    "    df = pd.DataFrame.from_records(files_meta, columns = (\"Filename\", \"Datetime\", \"Date\", \"Filepath\"))\n",
    "    return(df)"
   ]
  },
  {
   "cell_type": "code",
   "execution_count": null,
   "metadata": {},
   "outputs": [],
   "source": [
    "def meta_from_dir(dir_path):\n",
    "    files = [top + os.sep + f for top, dirs, files in os.walk(dir_path) for f in files]\n",
    "    files_meta = meta_from_files(files)\n",
    "    return(files_meta)"
   ]
  },
  {
   "cell_type": "code",
   "execution_count": null,
   "metadata": {},
   "outputs": [],
   "source": [
    "gas_dir = os.path.join(os.pardir, \"data\", \"processed\", \"gas\")\n",
    "gas_files_meta = meta_from_dir(gas_dir)"
   ]
  },
  {
   "cell_type": "code",
   "execution_count": null,
   "metadata": {},
   "outputs": [],
   "source": [
    "gas_files_meta"
   ]
  },
  {
   "cell_type": "code",
   "execution_count": null,
   "metadata": {},
   "outputs": [],
   "source": [
    "strom_dir = os.path.join(os.pardir, \"data\", \"processed\", \"strom\")\n",
    "strom_files_meta = meta_from_dir(strom_dir)"
   ]
  },
  {
   "cell_type": "code",
   "execution_count": null,
   "metadata": {},
   "outputs": [],
   "source": [
    "strom_files_meta"
   ]
  },
  {
   "cell_type": "markdown",
   "metadata": {},
   "source": [
    "## Add Flag if Picture has been Labelled"
   ]
  },
  {
   "cell_type": "code",
   "execution_count": null,
   "metadata": {},
   "outputs": [],
   "source": [
    "gas_label_dir = os.path.join(os.pardir, \"data\", \"labelled\", \"gas\", \"vott-json-export\")\n",
    "gas_labelled_files = [os.path.basename(f) for top, dirs, files in os.walk(gas_label_dir) for f in files]\n",
    "gas_files_meta[\"Labelled\"] = gas_files_meta.apply(lambda row: True if row[\"Filename\"] in gas_labelled_files else False, axis=1)\n",
    "gas_files_meta"
   ]
  },
  {
   "cell_type": "code",
   "execution_count": null,
   "metadata": {},
   "outputs": [],
   "source": [
    "strom_label_dir = os.path.join(os.pardir, \"data\", \"labelled\", \"strom\", \"vott-json-export\")\n",
    "strom_labelled_files = [os.path.basename(f) for top, dirs, files in os.walk(strom_label_dir) for f in files]\n",
    "strom_files_meta[\"Labelled\"] = strom_files_meta.apply(lambda row: True if row[\"Filename\"] in strom_labelled_files else False, axis=1)\n",
    "strom_files_meta"
   ]
  },
  {
   "cell_type": "markdown",
   "metadata": {},
   "source": [
    "## Join Picture Data with Manual Readings"
   ]
  },
  {
   "cell_type": "markdown",
   "metadata": {},
   "source": [
    "### Strom"
   ]
  },
  {
   "cell_type": "code",
   "execution_count": null,
   "metadata": {},
   "outputs": [],
   "source": [
    "manual_readings.head(2)"
   ]
  },
  {
   "cell_type": "code",
   "execution_count": null,
   "metadata": {},
   "outputs": [],
   "source": [
    "strom_readings_manual = manual_readings[manual_readings[\"Meter Type\"] == \"Strom\"]\n",
    "strom_readings_manual.head(2)"
   ]
  },
  {
   "cell_type": "code",
   "execution_count": null,
   "metadata": {},
   "outputs": [],
   "source": [
    "strom_files_meta.head(2)"
   ]
  },
  {
   "cell_type": "code",
   "execution_count": null,
   "metadata": {},
   "outputs": [],
   "source": [
    "strom = strom_files_meta.merge(strom_readings_manual, left_on=\"Date\", right_on=\"Date\")\n",
    "strom"
   ]
  },
  {
   "cell_type": "markdown",
   "metadata": {},
   "source": [
    "### Gas"
   ]
  },
  {
   "cell_type": "code",
   "execution_count": null,
   "metadata": {},
   "outputs": [],
   "source": [
    "manual_readings.head(2)"
   ]
  },
  {
   "cell_type": "code",
   "execution_count": null,
   "metadata": {},
   "outputs": [],
   "source": [
    "gas_readings_manual = manual_readings[manual_readings[\"Meter Type\"] == \"Gas\"]\n",
    "gas_readings_manual.head(2)"
   ]
  },
  {
   "cell_type": "code",
   "execution_count": null,
   "metadata": {},
   "outputs": [],
   "source": [
    "gas_files_meta.head(2)"
   ]
  },
  {
   "cell_type": "code",
   "execution_count": null,
   "metadata": {},
   "outputs": [],
   "source": [
    "gas = gas_files_meta.merge(gas_readings_manual, left_on=\"Date\", right_on=\"Date\")\n",
    "gas"
   ]
  },
  {
   "cell_type": "markdown",
   "metadata": {},
   "source": [
    "## Return one dataframe in the end"
   ]
  },
  {
   "cell_type": "code",
   "execution_count": null,
   "metadata": {},
   "outputs": [],
   "source": [
    "dataset = pd.concat([strom, gas])\n",
    "dataset"
   ]
  },
  {
   "cell_type": "code",
   "execution_count": null,
   "metadata": {},
   "outputs": [],
   "source": [
    "dataset.to_csv(\"../data/processed/dataset.csv\")"
   ]
  }
 ],
 "metadata": {
  "kernelspec": {
   "display_name": "meter_readings",
   "language": "python",
   "name": "meter_readings"
  },
  "language_info": {
   "codemirror_mode": {
    "name": "ipython",
    "version": 3
   },
   "file_extension": ".py",
   "mimetype": "text/x-python",
   "name": "python",
   "nbconvert_exporter": "python",
   "pygments_lexer": "ipython3",
   "version": "3.7.7"
  }
 },
 "nbformat": 4,
 "nbformat_minor": 4
}
