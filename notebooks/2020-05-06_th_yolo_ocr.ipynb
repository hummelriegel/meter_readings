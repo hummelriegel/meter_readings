{
 "cells": [
  {
   "cell_type": "markdown",
   "metadata": {},
   "source": [
    "# Custom OCR using YOLO and tesseract\n",
    "- https://medium.com/saarthi-ai/how-to-build-your-own-ocr-a5bb91b622ba\n",
    "- https://www.arunponnusamy.com/preparing-custom-dataset-for-training-yolo-object-detector.html\n",
    "- https://blog.insightdatascience.com/how-to-train-your-own-yolov3-detector-from-scratch-224d10e55de2 (https://github.com/AntonMu/TrainYourOwnYOLO)"
   ]
  },
  {
   "cell_type": "code",
   "execution_count": null,
   "metadata": {},
   "outputs": [],
   "source": [
    "import pandas as pd\n",
    "\n",
    "import os"
   ]
  },
  {
   "cell_type": "code",
   "execution_count": null,
   "metadata": {},
   "outputs": [],
   "source": [
    "def convert_vott_csv_to_yolo(\n",
    "    vott_df,\n",
    "    labeldict=dict(zip([\"Cat_Face\"], [0,])),\n",
    "    path=\"\",\n",
    "    target_name=\"data_train.txt\",\n",
    "    abs_path=False,\n",
    "):\n",
    "\n",
    "    # Encode labels according to labeldict if code's don't exist\n",
    "    if not \"code\" in vott_df.columns:\n",
    "        vott_df[\"code\"] = vott_df[\"label\"].apply(lambda x: labeldict[x])\n",
    "    # Round float to ints\n",
    "    for col in vott_df[[\"xmin\", \"ymin\", \"xmax\", \"ymax\"]]:\n",
    "        vott_df[col] = (vott_df[col]).apply(lambda x: round(x))\n",
    "\n",
    "    # Create Yolo Text file\n",
    "    last_image = \"\"\n",
    "    txt_file = \"\"\n",
    "\n",
    "    for index, row in vott_df.iterrows():\n",
    "        if not last_image == row[\"image\"]:\n",
    "            if abs_path:\n",
    "                txt_file += \"\\n\" + row[\"image_path\"] + \" \"\n",
    "            else:\n",
    "                txt_file += \"\\n\" + os.path.join(path, row[\"image\"]) + \" \"\n",
    "            txt_file += \",\".join(\n",
    "                [\n",
    "                    str(x)\n",
    "                    for x in (row[[\"xmin\", \"ymin\", \"xmax\", \"ymax\", \"code\"]].tolist())\n",
    "                ]\n",
    "            )\n",
    "        else:\n",
    "            txt_file += \" \"\n",
    "            txt_file += \",\".join(\n",
    "                [\n",
    "                    str(x)\n",
    "                    for x in (row[[\"xmin\", \"ymin\", \"xmax\", \"ymax\", \"code\"]].tolist())\n",
    "                ]\n",
    "            )\n",
    "        last_image = row[\"image\"]\n",
    "    file = open(target_name, \"w\")\n",
    "    file.write(txt_file[1:])\n",
    "    file.close()\n",
    "    return True"
   ]
  },
  {
   "cell_type": "markdown",
   "metadata": {},
   "source": [
    "## Gas"
   ]
  },
  {
   "cell_type": "code",
   "execution_count": null,
   "metadata": {},
   "outputs": [],
   "source": [
    "# Prepare the dataset for YOLO\n",
    "# Path to csv with labels (vott export)\n",
    "multi_df = pd.read_csv(\"../data/labelled/gas/vott-csv-export/Hummel-Meter-export.csv\")\n",
    "multi_df.head()"
   ]
  },
  {
   "cell_type": "code",
   "execution_count": null,
   "metadata": {},
   "outputs": [],
   "source": [
    "labels = multi_df[\"label\"].unique()\n",
    "labeldict = dict(zip(labels, range(len(labels))))\n",
    "multi_df.drop_duplicates(subset=None, keep=\"first\", inplace=True)"
   ]
  },
  {
   "cell_type": "code",
   "execution_count": null,
   "metadata": {},
   "outputs": [],
   "source": [
    "# Path to images\n",
    "train_path = \"../data/labelled/gas/vott-csv-export/\"\n",
    "target_name = \"../data/labelled/gas/vott-yolo-export/Hummel-Meter-export.yolo\""
   ]
  },
  {
   "cell_type": "code",
   "execution_count": null,
   "metadata": {},
   "outputs": [],
   "source": [
    "target_dir = os.path.dirname(target_name)\n",
    "if not os.path.exists(target_dir):\n",
    "    os.makedirs(target_dir)"
   ]
  },
  {
   "cell_type": "code",
   "execution_count": null,
   "metadata": {},
   "outputs": [],
   "source": [
    "convert_vott_csv_to_yolo(\n",
    "    multi_df, labeldict, path=train_path, target_name=target_name\n",
    ")"
   ]
  },
  {
   "cell_type": "markdown",
   "metadata": {},
   "source": [
    "## Strom"
   ]
  },
  {
   "cell_type": "code",
   "execution_count": null,
   "metadata": {},
   "outputs": [],
   "source": [
    "# Prepare the dataset for YOLO\n",
    "# Path to csv with labels (vott export)\n",
    "multi_df = pd.read_csv(\"../data/labelled/strom/vott-csv-export/Stromzaehler-export.csv\")\n",
    "multi_df.head()"
   ]
  },
  {
   "cell_type": "code",
   "execution_count": null,
   "metadata": {},
   "outputs": [],
   "source": [
    "labels = multi_df[\"label\"].unique()\n",
    "labeldict = dict(zip(labels, range(len(labels))))\n",
    "multi_df.drop_duplicates(subset=None, keep=\"first\", inplace=True)"
   ]
  },
  {
   "cell_type": "code",
   "execution_count": null,
   "metadata": {},
   "outputs": [],
   "source": [
    "# Path to images\n",
    "train_path = \"../data/labelled/strom/vott-csv-export/\"\n",
    "target_name = \"../data/labelled/strom/vott-yolo-export/Hummel-Meter-export.yolo\""
   ]
  },
  {
   "cell_type": "code",
   "execution_count": null,
   "metadata": {},
   "outputs": [],
   "source": [
    "target_dir = os.path.dirname(target_name)\n",
    "if not os.path.exists(target_dir):\n",
    "    os.makedirs(target_dir)"
   ]
  },
  {
   "cell_type": "code",
   "execution_count": null,
   "metadata": {},
   "outputs": [],
   "source": [
    "convert_vott_csv_to_yolo(\n",
    "    multi_df, labeldict, path=train_path, target_name=target_name\n",
    ")"
   ]
  }
 ],
 "metadata": {
  "kernelspec": {
   "display_name": "meter_readings",
   "language": "python",
   "name": "meter_readings"
  },
  "language_info": {
   "codemirror_mode": {
    "name": "ipython",
    "version": 3
   },
   "file_extension": ".py",
   "mimetype": "text/x-python",
   "name": "python",
   "nbconvert_exporter": "python",
   "pygments_lexer": "ipython3",
   "version": "3.7.7"
  }
 },
 "nbformat": 4,
 "nbformat_minor": 4
}
